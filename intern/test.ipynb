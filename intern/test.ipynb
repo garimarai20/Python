{
 "cells": [
  {
   "cell_type": "code",
   "execution_count": 1,
   "metadata": {},
   "outputs": [],
   "source": [
    "import numpy as np\n",
    "import pandas as pd\n",
    "import matplotlib.pyplot as plt "
   ]
  },
  {
   "cell_type": "code",
   "execution_count": 2,
   "metadata": {},
   "outputs": [
    {
     "name": "stdout",
     "output_type": "stream",
     "text": [
      "      Year Month   Laptop/Desktop Type_of_Customers?           Coming from  \\\n",
      "0     2020   Jan  Desktop_Website  Existing_Customer    Came_From_LinkedIn   \n",
      "1     2020   Jan  Desktop_Website  Existing_Customer    Came_From_LinkedIn   \n",
      "2     2020   Jan  Desktop_Website  Existing_Customer    Came_From_LinkedIn   \n",
      "3     2020   Jan  Desktop_Website  Existing_Customer    Came_From_LinkedIn   \n",
      "4     2020   Jan  Desktop_Website  Existing_Customer    Came_From_LinkedIn   \n",
      "...    ...   ...              ...                ...                   ...   \n",
      "2155  2022   Dec   Laptop_Website       New_Customer  Unidentified_Sources   \n",
      "2156  2022   Dec   Laptop_Website       New_Customer  Unidentified_Sources   \n",
      "2157  2022   Dec   Laptop_Website       New_Customer  Unidentified_Sources   \n",
      "2158  2022   Dec   Laptop_Website       New_Customer  Unidentified_Sources   \n",
      "2159  2022   Dec   Laptop_Website       New_Customer  Unidentified_Sources   \n",
      "\n",
      "     Place_in_India   Level 1   Level 2  Level 3  Level 4  \n",
      "0         Bengaluru       NaN       NaN    56892    17178  \n",
      "1         Hyderabad       NaN       NaN    41460    11916  \n",
      "2          Dehradun       NaN       NaN    55561    19461  \n",
      "3            Indore       NaN       NaN   320923   110667  \n",
      "4              Pune       NaN       NaN   220937    46033  \n",
      "...             ...       ...       ...      ...      ...  \n",
      "2155      Bengaluru   67299.0   21255.0     6984     1882  \n",
      "2156      Hyderabad  430294.0  156510.0    46676    16703  \n",
      "2157       Dehradun   48713.0   27770.0     7515     2089  \n",
      "2158         Indore  593021.0  310836.0   161575    78465  \n",
      "2159           Pune  372897.0  123057.0    48802    19441  \n",
      "\n",
      "[2160 rows x 10 columns]\n"
     ]
    }
   ],
   "source": [
    "test = pd.read_excel('test_DataScience.xlsx')\n",
    "print(test)"
   ]
  },
  {
   "cell_type": "code",
   "execution_count": 3,
   "metadata": {},
   "outputs": [
    {
     "name": "stdout",
     "output_type": "stream",
     "text": [
      "<class 'pandas.core.frame.DataFrame'>\n",
      "RangeIndex: 2160 entries, 0 to 2159\n",
      "Data columns (total 10 columns):\n",
      " #   Column              Non-Null Count  Dtype  \n",
      "---  ------              --------------  -----  \n",
      " 0   Year                2160 non-null   int64  \n",
      " 1   Month               2160 non-null   object \n",
      " 2   Laptop/Desktop      2160 non-null   object \n",
      " 3   Type_of_Customers?  2160 non-null   object \n",
      " 4   Coming from         2160 non-null   object \n",
      " 5   Place_in_India      2160 non-null   object \n",
      " 6   Level 1             1081 non-null   float64\n",
      " 7   Level 2             1081 non-null   float64\n",
      " 8   Level 3             2160 non-null   int64  \n",
      " 9   Level 4             2160 non-null   int64  \n",
      "dtypes: float64(2), int64(3), object(5)\n",
      "memory usage: 168.9+ KB\n"
     ]
    }
   ],
   "source": [
    "test.info()"
   ]
  },
  {
   "cell_type": "code",
   "execution_count": 4,
   "metadata": {},
   "outputs": [
    {
     "name": "stdout",
     "output_type": "stream",
     "text": [
      "0       Bengaluru\n",
      "1       Hyderabad\n",
      "2        Dehradun\n",
      "3          Indore\n",
      "4            Pune\n",
      "          ...    \n",
      "2155    Bengaluru\n",
      "2156    Hyderabad\n",
      "2157     Dehradun\n",
      "2158       Indore\n",
      "2159         Pune\n",
      "Name: Place_in_India, Length: 2160, dtype: object\n"
     ]
    }
   ],
   "source": [
    "print (test.Place_in_India)"
   ]
  },
  {
   "cell_type": "code",
   "execution_count": 17,
   "metadata": {},
   "outputs": [
    {
     "name": "stdout",
     "output_type": "stream",
     "text": [
      "      Year Month   Laptop/Desktop Type_of_Customers?           Coming from  \\\n",
      "0     2020   Jan  Desktop_Website  Existing_Customer              LinkedIn   \n",
      "1     2020   Jan  Desktop_Website  Existing_Customer              LinkedIn   \n",
      "2     2020   Jan  Desktop_Website  Existing_Customer              LinkedIn   \n",
      "3     2020   Jan  Desktop_Website  Existing_Customer              LinkedIn   \n",
      "4     2020   Jan  Desktop_Website  Existing_Customer              LinkedIn   \n",
      "...    ...   ...              ...                ...                   ...   \n",
      "2155  2022   Dec   Laptop_Website       New_Customer  Unidentified_Sources   \n",
      "2156  2022   Dec   Laptop_Website       New_Customer  Unidentified_Sources   \n",
      "2157  2022   Dec   Laptop_Website       New_Customer  Unidentified_Sources   \n",
      "2158  2022   Dec   Laptop_Website       New_Customer  Unidentified_Sources   \n",
      "2159  2022   Dec   Laptop_Website       New_Customer  Unidentified_Sources   \n",
      "\n",
      "     Place_in_India   Level 1   Level 2  Level 3  Level 4  \n",
      "0         Bengaluru       NaN       NaN    56892    17178  \n",
      "1         Hyderabad       NaN       NaN    41460    11916  \n",
      "2          Dehradun       NaN       NaN    55561    19461  \n",
      "3            Indore       NaN       NaN   320923   110667  \n",
      "4              Pune       NaN       NaN   220937    46033  \n",
      "...             ...       ...       ...      ...      ...  \n",
      "2155      Bengaluru   67299.0   21255.0     6984     1882  \n",
      "2156      Hyderabad  430294.0  156510.0    46676    16703  \n",
      "2157       Dehradun   48713.0   27770.0     7515     2089  \n",
      "2158         Indore  593021.0  310836.0   161575    78465  \n",
      "2159           Pune  372897.0  123057.0    48802    19441  \n",
      "\n",
      "[2160 rows x 10 columns]\n"
     ]
    }
   ],
   "source": [
    "def data_cleaning(test) :\n",
    "    test['Month']=test['Month'].replace(['Jan','Feb','Mar','Apr','May','Jun','Jul','Aug','Sep','Oct','Nov','Dec'],['1','2','3','4','5','6','7','8','9','10','11','12'])\n",
    "    \n",
    "   # test['Coming from']=test['Coming from'].replace(['Came_From_LinkedIn','Landed_Directly'],['LinkedIn','Direct_traffic'])\n",
    "print(test)"
   ]
  },
  {
   "cell_type": "code",
   "execution_count": null,
   "metadata": {},
   "outputs": [],
   "source": []
  },
  {
   "cell_type": "code",
   "execution_count": null,
   "metadata": {},
   "outputs": [],
   "source": []
  }
 ],
 "metadata": {
  "interpreter": {
   "hash": "a8dfbd2fc2a8af6c55c4518559071748e8c4931b9b78fdcc5ea1ea4fb4fc5a59"
  },
  "kernelspec": {
   "display_name": "Python 3.9.12 ('base')",
   "language": "python",
   "name": "python3"
  },
  "language_info": {
   "codemirror_mode": {
    "name": "ipython",
    "version": 3
   },
   "file_extension": ".py",
   "mimetype": "text/x-python",
   "name": "python",
   "nbconvert_exporter": "python",
   "pygments_lexer": "ipython3",
   "version": "3.9.12"
  },
  "orig_nbformat": 4
 },
 "nbformat": 4,
 "nbformat_minor": 2
}
