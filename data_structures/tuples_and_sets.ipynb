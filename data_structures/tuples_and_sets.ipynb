{
 "cells": [
  {
   "cell_type": "markdown",
   "metadata": {},
   "source": [
    "# Tuple"
   ]
  },
  {
   "cell_type": "code",
   "execution_count": 1,
   "metadata": {},
   "outputs": [
    {
     "name": "stdout",
     "output_type": "stream",
     "text": [
      "(1, 2, 3)\n"
     ]
    }
   ],
   "source": [
    "my_tuple = (1,2,3)\n",
    "print(my_tuple)"
   ]
  },
  {
   "cell_type": "code",
   "execution_count": 2,
   "metadata": {},
   "outputs": [
    {
     "name": "stdout",
     "output_type": "stream",
     "text": [
      "(1, 'hello', 3.4)\n"
     ]
    }
   ],
   "source": [
    "# tuple with mixed datatypes\n",
    "my_tuple = (1,\"hello\" , 3.4)\n",
    "print(my_tuple)"
   ]
  },
  {
   "cell_type": "code",
   "execution_count": 3,
   "metadata": {},
   "outputs": [
    {
     "name": "stdout",
     "output_type": "stream",
     "text": [
      "('mouse', [8, 4, 6], (1, 2, 3))\n"
     ]
    }
   ],
   "source": [
    "# nested tuple\n",
    "my_tuple = (\"mouse\", [8,4,6], (1,2,3))\n",
    "print(my_tuple)"
   ]
  },
  {
   "cell_type": "code",
   "execution_count": 4,
   "metadata": {},
   "outputs": [
    {
     "name": "stdout",
     "output_type": "stream",
     "text": [
      "(3, 4.6, 'apple')\n"
     ]
    }
   ],
   "source": [
    "# a tuple can also be created without using parentheses\n",
    "# this is known as tuple packing\n",
    "my_tuple = 3, 4.6, \"apple\"\n",
    "print(my_tuple)"
   ]
  },
  {
   "cell_type": "code",
   "execution_count": 5,
   "metadata": {},
   "outputs": [
    {
     "name": "stdout",
     "output_type": "stream",
     "text": [
      "(1, 2, 3, 4, 5, 6)\n"
     ]
    }
   ],
   "source": [
    "# concatenation \n",
    "# output : (1,2,3,4,5,6)\n",
    "print((1,2,3)+(4,5,6,))"
   ]
  },
  {
   "cell_type": "code",
   "execution_count": 1,
   "metadata": {},
   "outputs": [
    {
     "name": "stdout",
     "output_type": "stream",
     "text": [
      "('Repeat', 'Repeat', 'Repeat')\n"
     ]
    }
   ],
   "source": [
    "# Repeat\n",
    "# output ('repeat' , ' repeat' , 'repeat')\n",
    "print((\"Repeat\",)*3)"
   ]
  },
  {
   "cell_type": "code",
   "execution_count": 3,
   "metadata": {},
   "outputs": [
    {
     "name": "stdout",
     "output_type": "stream",
     "text": [
      "2\n",
      "3\n"
     ]
    }
   ],
   "source": [
    "my_tuple= ('a','p','p','l','e',)\n",
    "print(my_tuple.count('p')) # Output :2\n",
    "print(my_tuple.index('l')) # Output :3"
   ]
  },
  {
   "cell_type": "markdown",
   "metadata": {},
   "source": [
    "SET\n",
    " It is unordered and unindexed (which means no slicing).\n",
    " It does not contain duplicate values.\n",
    " Used to perform mathematical operations.\n",
    " It is mutable.\n",
    " No nesting in SET.\n",
    " No set and list can be made as set items.\n",
    " \n"
   ]
  },
  {
   "cell_type": "code",
   "execution_count": 6,
   "metadata": {},
   "outputs": [
    {
     "name": "stdout",
     "output_type": "stream",
     "text": [
      "{1, 2, 3}\n"
     ]
    }
   ],
   "source": [
    "# set of integers\n",
    "my_set={1,2,3}\n",
    "print(my_set)"
   ]
  },
  {
   "cell_type": "code",
   "execution_count": 7,
   "metadata": {},
   "outputs": [
    {
     "name": "stdout",
     "output_type": "stream",
     "text": [
      "{'oye', 1.0, (1, 2, 3)}\n"
     ]
    }
   ],
   "source": [
    "#set of mixed datatypes\n",
    "my_set={1.0,\"oye\",(1,2,3)}\n",
    "print(my_set)"
   ]
  },
  {
   "cell_type": "code",
   "execution_count": 8,
   "metadata": {},
   "outputs": [
    {
     "name": "stdout",
     "output_type": "stream",
     "text": [
      "{1, 2, 3}\n"
     ]
    }
   ],
   "source": [
    "# we can make set from a list \n",
    "# output : {1,2,3}\n",
    "my_set = set([1,2,3,2])\n",
    "print(my_set)"
   ]
  },
  {
   "cell_type": "code",
   "execution_count": 9,
   "metadata": {},
   "outputs": [
    {
     "name": "stdout",
     "output_type": "stream",
     "text": [
      "{1, 2, 3, 4}\n"
     ]
    }
   ],
   "source": [
    "# set cannot have duplicates\n",
    "# output: {1,2,3,4}\n",
    "my_set={1,2,3,4,3,2}\n",
    "print(my_set)"
   ]
  },
  {
   "cell_type": "markdown",
   "metadata": {},
   "source": [
    "my_set= {1,2,[3,4]}\n",
    "Set cannot have mutable items. Here [3,4] is a mutable list.\n",
    "OUTPUT :-\n",
    "TypeError: unhashable type: 'list'"
   ]
  },
  {
   "cell_type": "code",
   "execution_count": 5,
   "metadata": {},
   "outputs": [
    {
     "name": "stdout",
     "output_type": "stream",
     "text": [
      "<class 'set'>\n"
     ]
    }
   ],
   "source": [
    "# initialize 'a' with a set()\n",
    "a= set()\n",
    "\n",
    "# check datatype of 'a'\n",
    "print(type(a))"
   ]
  },
  {
   "cell_type": "code",
   "execution_count": 6,
   "metadata": {},
   "outputs": [
    {
     "name": "stdout",
     "output_type": "stream",
     "text": [
      "{1, 3}\n",
      "{1, 2, 3}\n",
      "{1, 2, 3, 4}\n",
      "{1, 2, 3, 4, 5, 6, 8}\n"
     ]
    }
   ],
   "source": [
    "# initialize my_set \n",
    "my_set= {1,3}\n",
    "print (my_set)\n",
    "\n",
    "\n",
    "# adding a single element \n",
    "my_set.add(2)\n",
    "print(my_set)\n",
    "\n",
    "# adding multiple elements\n",
    "my_set.update([2,3,4])\n",
    "print(my_set)\n",
    "\n",
    "\n",
    "# adding list and set\n",
    "my_set.update([4,5],{1,6,8})\n",
    "print(my_set)\n"
   ]
  },
  {
   "cell_type": "code",
   "execution_count": 7,
   "metadata": {},
   "outputs": [
    {
     "name": "stdout",
     "output_type": "stream",
     "text": [
      "{1, 3, 4, 5, 6}\n",
      "{1, 3, 5, 6}\n",
      "{1, 3, 5}\n",
      "{3, 5}\n",
      "set()\n"
     ]
    }
   ],
   "source": [
    "# initialize my_set \n",
    "my_set= {1,3,4,5,6}\n",
    "print (my_set)\n",
    "\n",
    "\n",
    "# discarding an element\n",
    "my_set.discard(4)\n",
    "print(my_set)\n",
    "\n",
    "\n",
    "# removing an element \n",
    "my_set.remove(6)\n",
    "print(my_set)\n",
    "\n",
    "\n",
    "# pops a random element\n",
    "my_set.pop()\n",
    "print(my_set)\n",
    "\n",
    "\n",
    "# clear my_set\n",
    "my_set.clear()\n",
    "print(my_set)"
   ]
  },
  {
   "cell_type": "code",
   "execution_count": 10,
   "metadata": {},
   "outputs": [],
   "source": [
    "A= {1,2,3,4,5,}\n",
    "B={4,5,6,7,8}\n",
    "\n",
    "\n"
   ]
  },
  {
   "cell_type": "code",
   "execution_count": 11,
   "metadata": {},
   "outputs": [
    {
     "name": "stdout",
     "output_type": "stream",
     "text": [
      "{1, 2, 3, 4, 5, 6, 7, 8}\n"
     ]
    }
   ],
   "source": [
    "# use | operator\n",
    "print(A|B)"
   ]
  },
  {
   "cell_type": "code",
   "execution_count": 8,
   "metadata": {},
   "outputs": [
    {
     "name": "stdout",
     "output_type": "stream",
     "text": [
      "{1, 2, 3, 4, 5, 6, 7, 8}\n"
     ]
    },
    {
     "data": {
      "text/plain": [
       "{1, 2, 3, 4, 5, 6, 7, 8}"
      ]
     },
     "execution_count": 8,
     "metadata": {},
     "output_type": "execute_result"
    }
   ],
   "source": [
    "\n",
    "\n",
    "# use union function\n",
    "A.union(B)\n",
    "\n",
    "# Use union function on B\n",
    "B.union(A)\n"
   ]
  },
  {
   "cell_type": "code",
   "execution_count": 13,
   "metadata": {},
   "outputs": [
    {
     "name": "stdout",
     "output_type": "stream",
     "text": [
      "{4, 5}\n"
     ]
    }
   ],
   "source": [
    "print (A&B)"
   ]
  },
  {
   "cell_type": "code",
   "execution_count": 14,
   "metadata": {},
   "outputs": [
    {
     "data": {
      "text/plain": [
       "{4, 5}"
      ]
     },
     "execution_count": 14,
     "metadata": {},
     "output_type": "execute_result"
    }
   ],
   "source": [
    "A.intersection(B)"
   ]
  },
  {
   "cell_type": "code",
   "execution_count": 15,
   "metadata": {},
   "outputs": [
    {
     "name": "stdout",
     "output_type": "stream",
     "text": [
      "{1, 2, 3}\n"
     ]
    }
   ],
   "source": [
    "print(A-B)"
   ]
  },
  {
   "cell_type": "code",
   "execution_count": 16,
   "metadata": {},
   "outputs": [
    {
     "data": {
      "text/plain": [
       "{1, 2, 3}"
      ]
     },
     "execution_count": 16,
     "metadata": {},
     "output_type": "execute_result"
    }
   ],
   "source": [
    "A.difference(B)"
   ]
  },
  {
   "cell_type": "code",
   "execution_count": 17,
   "metadata": {},
   "outputs": [
    {
     "name": "stdout",
     "output_type": "stream",
     "text": [
      "{1, 2, 3, 6, 7, 8}\n"
     ]
    }
   ],
   "source": [
    "# SET SYMMETRIC DIFFERENCE \n",
    "print(A^B)"
   ]
  },
  {
   "cell_type": "code",
   "execution_count": 18,
   "metadata": {},
   "outputs": [
    {
     "data": {
      "text/plain": [
       "{1, 2, 3, 6, 7, 8}"
      ]
     },
     "execution_count": 18,
     "metadata": {},
     "output_type": "execute_result"
    }
   ],
   "source": [
    "A.symmetric_difference(B)"
   ]
  },
  {
   "cell_type": "code",
   "execution_count": 22,
   "metadata": {},
   "outputs": [
    {
     "name": "stdout",
     "output_type": "stream",
     "text": [
      "{0, 1, 2, 3, 4, 5, 6, 7, 8, 9}\n"
     ]
    }
   ],
   "source": [
    "# WAP TO ENTER 10 VALUES FROM USER\n",
    "user_set = set()\n",
    "for i in range(10):\n",
    "    inp=int(input(\"enter 10 values\"))\n",
    "    user_set.add(inp)\n",
    "print(user_set)"
   ]
  },
  {
   "cell_type": "code",
   "execution_count": 26,
   "metadata": {},
   "outputs": [
    {
     "name": "stdout",
     "output_type": "stream",
     "text": [
      "{'PHONE', 'LAPTOP', 'FAN', 'MONITOR', 'AIR CONDITIONER'}\n",
      "{'PHONE', 'LAPTOP', 'FAN', 'MONITOR', 'AIR CONDITIONER'}\n",
      "{'LAPTOP'}\n",
      "{'FAN', 'MONITOR'}\n",
      "{'PHONE', 'FAN', 'MONITOR', 'AIR CONDITIONER'}\n"
     ]
    }
   ],
   "source": [
    "# CREATE 2 SETS OF ELCETRIC DEVICES AND PERFORM SET OPERATIONS ON THEM\n",
    "\n",
    "C={'MONITOR','LAPTOP','FAN'}\n",
    "D={'AIR CONDITIONER','LAPTOP','PHONE'}\n",
    "\n",
    "print(C|D)\n",
    "\n",
    "print(C.union(D))\n",
    "\n",
    "print(C.intersection(D))\n",
    "\n",
    "print(C-D)\n",
    "\n",
    "print(C^D)"
   ]
  },
  {
   "cell_type": "code",
   "execution_count": 1,
   "metadata": {},
   "outputs": [
    {
     "name": "stdout",
     "output_type": "stream",
     "text": [
      "{'dates', 'mango', 'banana', 'apple', 'walnut', 'almond'}\n",
      "{'dates', 'walnut', 'almond'}\n",
      "{'apple', 'banana', 'mango'}\n",
      "True\n",
      "dry fruits is subset of all fruits: True\n",
      "fruits is super set of apple and banana: True\n"
     ]
    }
   ],
   "source": [
    "dry_fruits= {'dates','almond','walnut'}\n",
    "fruits= {'mango','banana','apple'}\n",
    "\n",
    "all_fruits= dry_fruits|fruits\n",
    "\n",
    "print(all_fruits)\n",
    "print(dry_fruits)\n",
    "print(fruits)\n",
    "\n",
    "\n",
    "ans= dry_fruits.isdisjoint(fruits)\n",
    "print(ans)\n",
    "\n",
    "ans = dry_fruits.issubset(all_fruits)\n",
    "print(\"dry fruits is subset of all fruits:\", ans)\n",
    "\n",
    "ans = fruits.issuperset({'apple','banana'})\n",
    "print(\"fruits is super set of apple and banana:\", ans)\n",
    "\n",
    "\n"
   ]
  },
  {
   "cell_type": "code",
   "execution_count": null,
   "metadata": {},
   "outputs": [],
   "source": []
  }
 ],
 "metadata": {
  "interpreter": {
   "hash": "a8dfbd2fc2a8af6c55c4518559071748e8c4931b9b78fdcc5ea1ea4fb4fc5a59"
  },
  "kernelspec": {
   "display_name": "Python 3.9.12 ('base')",
   "language": "python",
   "name": "python3"
  },
  "language_info": {
   "codemirror_mode": {
    "name": "ipython",
    "version": 3
   },
   "file_extension": ".py",
   "mimetype": "text/x-python",
   "name": "python",
   "nbconvert_exporter": "python",
   "pygments_lexer": "ipython3",
   "version": "3.9.12"
  },
  "orig_nbformat": 4
 },
 "nbformat": 4,
 "nbformat_minor": 2
}
