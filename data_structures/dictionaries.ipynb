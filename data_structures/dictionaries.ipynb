{
 "cells": [
  {
   "cell_type": "markdown",
   "metadata": {},
   "source": [
    "DICTIONARY \n",
    " ordered collection of items.\n",
    " every dictionary has key and value pair\n",
    " "
   ]
  },
  {
   "cell_type": "code",
   "execution_count": 4,
   "metadata": {},
   "outputs": [
    {
     "name": "stdout",
     "output_type": "stream",
     "text": [
      "{'series': 'Mistborn', 'title': 'the final empire', 'author': 'brandon sanderson', 'publisher': 'tor.com', 'price': 2099, 'year': 2002}\n",
      "dict_keys(['series', 'title', 'author', 'publisher', 'price', 'year'])\n",
      "dict_values(['Mistborn', 'the final empire', 'brandon sanderson', 'tor.com', 2099, 2002])\n"
     ]
    }
   ],
   "source": [
    "\n",
    "info_dict= {\n",
    "    'series':'Mistborn',\n",
    "    'title':'the final empire',\n",
    "    'author':'brandon sanderson',\n",
    "    'publisher':'tor.com',\n",
    "    'price':2099,\n",
    "    'year' :2002\n",
    "}\n",
    "\n",
    "print(info_dict)\n",
    "print(info_dict.keys())\n",
    "print(info_dict.values())"
   ]
  },
  {
   "cell_type": "code",
   "execution_count": 5,
   "metadata": {},
   "outputs": [
    {
     "name": "stdout",
     "output_type": "stream",
     "text": [
      "brandon sanderson\n"
     ]
    }
   ],
   "source": [
    "# .get method for retrieving elements \n",
    "print(info_dict.get('author'))"
   ]
  },
  {
   "cell_type": "code",
   "execution_count": 7,
   "metadata": {},
   "outputs": [
    {
     "name": "stdout",
     "output_type": "stream",
     "text": [
      "{'series': 'Mistborn', 'title': 'the final empire', 'author': 'brandon sanderson', 'publisher': 'tor.com', 'price': 599, 'year': 2002}\n"
     ]
    }
   ],
   "source": [
    "# update existing key\n",
    "info_dict['price']=599\n",
    "print(info_dict)"
   ]
  },
  {
   "cell_type": "code",
   "execution_count": 8,
   "metadata": {},
   "outputs": [
    {
     "name": "stdout",
     "output_type": "stream",
     "text": [
      "{'series': 'Mistborn', 'title': 'the final empire', 'author': 'brandon sanderson', 'publisher': 'tor.com', 'price': 599, 'year': 2002, 'rating': 10}\n"
     ]
    }
   ],
   "source": [
    "# Adding a new key and value pair\n",
    "info_dict['rating']=10\n",
    "print(info_dict)"
   ]
  },
  {
   "cell_type": "code",
   "execution_count": null,
   "metadata": {},
   "outputs": [],
   "source": []
  }
 ],
 "metadata": {
  "interpreter": {
   "hash": "25a19fbe0a9132dfb9279d48d161753c6352f8f9478c2e74383d340069b907c3"
  },
  "kernelspec": {
   "display_name": "Python 3.9.12 64-bit",
   "language": "python",
   "name": "python3"
  },
  "language_info": {
   "codemirror_mode": {
    "name": "ipython",
    "version": 3
   },
   "file_extension": ".py",
   "mimetype": "text/x-python",
   "name": "python",
   "nbconvert_exporter": "python",
   "pygments_lexer": "ipython3",
   "version": "3.9.12"
  },
  "orig_nbformat": 4
 },
 "nbformat": 4,
 "nbformat_minor": 2
}
