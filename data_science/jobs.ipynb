{
 "cells": [
  {
   "cell_type": "code",
   "execution_count": 1,
   "metadata": {},
   "outputs": [],
   "source": [
    "import requests\n",
    "from bs4 import BeautifulSoup"
   ]
  },
  {
   "cell_type": "code",
   "execution_count": 2,
   "metadata": {},
   "outputs": [],
   "source": [
    "def get_soup(url):\n",
    "    page  = requests.get(url)\n",
    "    return BeautifulSoup(page.text)"
   ]
  },
  {
   "cell_type": "code",
   "execution_count": 3,
   "metadata": {},
   "outputs": [],
   "source": [
    "soup = get_soup('https://www.python.org/jobs/')"
   ]
  },
  {
   "cell_type": "code",
   "execution_count": 27,
   "metadata": {},
   "outputs": [],
   "source": [
    "target = soup.find('ol', attrs ={'class':'list-recent-jobs list-row-container menu'})"
   ]
  },
  {
   "cell_type": "code",
   "execution_count": 28,
   "metadata": {},
   "outputs": [
    {
     "name": "stdout",
     "output_type": "stream",
     "text": [
      "25\n"
     ]
    }
   ],
   "source": [
    "#alljobs = posts.find_all('ol', attrs ={'class':'list-recent-jobs list-row-container menu'})\n",
    "alljobs = target.find_all('li')\n",
    "print(len(alljobs))"
   ]
  },
  {
   "cell_type": "code",
   "execution_count": 33,
   "metadata": {},
   "outputs": [],
   "source": [
    "\n",
    "for jobs in alljobs :\n",
    "    title=jobs.find('h2', attrs = {'class':'listing-company'})\n",
    "    jobtype= jobs.find('span', attrs = {'class':'listing-job-type'})\n",
    "    jobpost=jobs.find('span', attrs = {'class':'listing-posted'})\n",
    "    jobcat=jobs.find('span', attrs = {'class':'listing-company-catergory'})\n",
    "    if title:\n",
    "        if jobtype:\n",
    "            if jobpost :\n",
    "                if jobcat:\n",
    "                    print('--> JOB POSTS','--'*40)\n",
    "                    print(title.text)\n",
    "                    print(jobtype.text.strip())\n",
    "                    print(jobpost.text.strip())\n",
    "                    print(jobcat.text.strip())\n",
    "                \n",
    "    else:\n",
    "        "
   ]
  },
  {
   "cell_type": "code",
   "execution_count": null,
   "metadata": {},
   "outputs": [],
   "source": []
  }
 ],
 "metadata": {
  "interpreter": {
   "hash": "a8dfbd2fc2a8af6c55c4518559071748e8c4931b9b78fdcc5ea1ea4fb4fc5a59"
  },
  "kernelspec": {
   "display_name": "Python 3.9.12 ('base')",
   "language": "python",
   "name": "python3"
  },
  "language_info": {
   "codemirror_mode": {
    "name": "ipython",
    "version": 3
   },
   "file_extension": ".py",
   "mimetype": "text/x-python",
   "name": "python",
   "nbconvert_exporter": "python",
   "pygments_lexer": "ipython3",
   "version": "3.9.12"
  },
  "orig_nbformat": 4
 },
 "nbformat": 4,
 "nbformat_minor": 2
}
