{
 "cells": [
  {
   "cell_type": "code",
   "execution_count": 2,
   "metadata": {},
   "outputs": [],
   "source": [
    "import numpy as np"
   ]
  },
  {
   "cell_type": "code",
   "execution_count": 2,
   "metadata": {},
   "outputs": [
    {
     "name": "stdout",
     "output_type": "stream",
     "text": [
      "[1 2 3 4 5]\n",
      "<class 'numpy.ndarray'>\n"
     ]
    }
   ],
   "source": [
    "# creation of numpy array \n",
    "x=np.array([1,2,3,4,5])\n",
    "print(x)\n",
    "print(type(x))  # ndarray"
   ]
  },
  {
   "cell_type": "code",
   "execution_count": 3,
   "metadata": {},
   "outputs": [
    {
     "name": "stdout",
     "output_type": "stream",
     "text": [
      "5\n",
      "(5,)\n",
      "1\n"
     ]
    }
   ],
   "source": [
    "# shape and size \n",
    "print(x.size) # total no. of elements \n",
    "print(x.shape) # dimension wise elements \n",
    "print(x.ndim)  # num of dimension "
   ]
  },
  {
   "cell_type": "code",
   "execution_count": 6,
   "metadata": {},
   "outputs": [
    {
     "name": "stdout",
     "output_type": "stream",
     "text": [
      "[[1 2 3]\n",
      " [4 5 6]]\n",
      "6\n",
      "(2, 3)\n",
      "2\n"
     ]
    }
   ],
   "source": [
    "x2d = np.array([[1,2,3],[4,5,6]])\n",
    "print(x2d)\n",
    "print(x2d.size) # total no. of elements \n",
    "print(x2d.shape) # dimension wise elements \n",
    "print(x2d.ndim)  # num of dimension "
   ]
  },
  {
   "cell_type": "code",
   "execution_count": 7,
   "metadata": {},
   "outputs": [
    {
     "name": "stdout",
     "output_type": "stream",
     "text": [
      "[[51 35 70 54 87]\n",
      " [32 55 76  8 96]\n",
      " [17  6 29 99  8]\n",
      " [41 49 42 99 15]\n",
      " [21 49 43 35 92]]\n"
     ]
    }
   ],
   "source": [
    "x25=np.random.randint(1,100,(5,5))\n",
    "print(x25)"
   ]
  },
  {
   "cell_type": "code",
   "execution_count": 10,
   "metadata": {},
   "outputs": [
    {
     "name": "stdout",
     "output_type": "stream",
     "text": [
      "1D MATRIX\n",
      "[ 1  5  9 13 17 21 25 29 33 37 41 45 49 53 57 61 65 69 73 77 81 85 89 93\n",
      " 97]\n",
      "25\n",
      "2D MATRIX\n",
      "[[ 1  5  9 13 17]\n",
      " [21 25 29 33 37]\n",
      " [41 45 49 53 57]\n",
      " [61 65 69 73 77]\n",
      " [81 85 89 93 97]]\n"
     ]
    }
   ],
   "source": [
    "xseq1 = np.arange(1,101, 4 )\n",
    "print('1D MATRIX')\n",
    "print( xseq1)\n",
    "print( xseq1.size)\n",
    "print('2D MATRIX')\n",
    "print(xseq1.reshape(5,5))"
   ]
  },
  {
   "cell_type": "code",
   "execution_count": 14,
   "metadata": {},
   "outputs": [
    {
     "name": "stdout",
     "output_type": "stream",
     "text": [
      "1D MATRIX\n",
      "[  1.           3.02040816   5.04081633   7.06122449   9.08163265\n",
      "  11.10204082  13.12244898  15.14285714  17.16326531  19.18367347\n",
      "  21.20408163  23.2244898   25.24489796  27.26530612  29.28571429\n",
      "  31.30612245  33.32653061  35.34693878  37.36734694  39.3877551\n",
      "  41.40816327  43.42857143  45.44897959  47.46938776  49.48979592\n",
      "  51.51020408  53.53061224  55.55102041  57.57142857  59.59183673\n",
      "  61.6122449   63.63265306  65.65306122  67.67346939  69.69387755\n",
      "  71.71428571  73.73469388  75.75510204  77.7755102   79.79591837\n",
      "  81.81632653  83.83673469  85.85714286  87.87755102  89.89795918\n",
      "  91.91836735  93.93877551  95.95918367  97.97959184 100.        ]\n",
      "50\n",
      "2D MATRIX\n",
      "[[  1.           3.02040816   5.04081633   7.06122449   9.08163265]\n",
      " [ 11.10204082  13.12244898  15.14285714  17.16326531  19.18367347]\n",
      " [ 21.20408163  23.2244898   25.24489796  27.26530612  29.28571429]\n",
      " [ 31.30612245  33.32653061  35.34693878  37.36734694  39.3877551 ]\n",
      " [ 41.40816327  43.42857143  45.44897959  47.46938776  49.48979592]\n",
      " [ 51.51020408  53.53061224  55.55102041  57.57142857  59.59183673]\n",
      " [ 61.6122449   63.63265306  65.65306122  67.67346939  69.69387755]\n",
      " [ 71.71428571  73.73469388  75.75510204  77.7755102   79.79591837]\n",
      " [ 81.81632653  83.83673469  85.85714286  87.87755102  89.89795918]\n",
      " [ 91.91836735  93.93877551  95.95918367  97.97959184 100.        ]]\n"
     ]
    }
   ],
   "source": [
    "xseq1 = np.linspace(1,100, 50)\n",
    "print('1D MATRIX')\n",
    "print( xseq1)\n",
    "print( xseq1.size)\n",
    "print('2D MATRIX')\n",
    "print(xseq1.reshape(10,5))"
   ]
  },
  {
   "cell_type": "code",
   "execution_count": 15,
   "metadata": {},
   "outputs": [
    {
     "data": {
      "text/plain": [
       "array([[1, 1, 1, 1, 1],\n",
       "       [1, 1, 1, 1, 1],\n",
       "       [1, 1, 1, 1, 1],\n",
       "       [1, 1, 1, 1, 1],\n",
       "       [1, 1, 1, 1, 1]])"
      ]
     },
     "execution_count": 15,
     "metadata": {},
     "output_type": "execute_result"
    }
   ],
   "source": [
    "np.ones((5,5), dtype='int')"
   ]
  },
  {
   "cell_type": "markdown",
   "metadata": {},
   "source": [
    "- indexing and slicing \n",
    "- boolean filter\n",
    "- maths and stats\n",
    "- methods"
   ]
  },
  {
   "cell_type": "code",
   "execution_count": 16,
   "metadata": {},
   "outputs": [
    {
     "data": {
      "text/plain": [
       "array([[51, 35, 70, 54, 87],\n",
       "       [32, 55, 76,  8, 96],\n",
       "       [17,  6, 29, 99,  8],\n",
       "       [41, 49, 42, 99, 15],\n",
       "       [21, 49, 43, 35, 92]])"
      ]
     },
     "execution_count": 16,
     "metadata": {},
     "output_type": "execute_result"
    }
   ],
   "source": [
    "x25"
   ]
  },
  {
   "cell_type": "code",
   "execution_count": 17,
   "metadata": {},
   "outputs": [
    {
     "name": "stdout",
     "output_type": "stream",
     "text": [
      "[51 35 70 54 87]\n"
     ]
    }
   ],
   "source": [
    "# first row \n",
    "print(x25[0])"
   ]
  },
  {
   "cell_type": "code",
   "execution_count": 18,
   "metadata": {},
   "outputs": [
    {
     "name": "stdout",
     "output_type": "stream",
     "text": [
      "[21 49 43 35 92]\n"
     ]
    }
   ],
   "source": [
    "# last row\n",
    "print(x25[-1])"
   ]
  },
  {
   "cell_type": "code",
   "execution_count": 19,
   "metadata": {},
   "outputs": [
    {
     "name": "stdout",
     "output_type": "stream",
     "text": [
      "35\n"
     ]
    }
   ],
   "source": [
    "# single element \n",
    "print(x25[0,1])  # same as print(x25[0][1])"
   ]
  },
  {
   "cell_type": "code",
   "execution_count": 22,
   "metadata": {},
   "outputs": [
    {
     "name": "stdout",
     "output_type": "stream",
     "text": [
      "[51 32 17 41 21]\n",
      "[35 55  6 49 49]\n",
      "[70 76 29 42 43]\n"
     ]
    }
   ],
   "source": [
    "# first column\n",
    "print(x25[:,0])\n",
    "\n",
    "# 2nd columns\n",
    "print(x25[:,1])\n",
    "\n",
    "# 3rd column\n",
    "print(x25[:,2])\n",
    "\n"
   ]
  },
  {
   "cell_type": "code",
   "execution_count": 24,
   "metadata": {},
   "outputs": [
    {
     "name": "stdout",
     "output_type": "stream",
     "text": [
      "[[51 35]\n",
      " [32 55]\n",
      " [17  6]\n",
      " [41 49]\n",
      " [21 49]]\n"
     ]
    }
   ],
   "source": [
    "# column 0, 1 index\n",
    "print(x25[:,[0,1]])\n"
   ]
  },
  {
   "cell_type": "code",
   "execution_count": 25,
   "metadata": {},
   "outputs": [
    {
     "name": "stdout",
     "output_type": "stream",
     "text": [
      "[[51 35 70]\n",
      " [32 55 76]\n",
      " [17  6 29]\n",
      " [41 49 42]\n",
      " [21 49 43]]\n"
     ]
    }
   ],
   "source": [
    "# column 0, 1,2 index\n",
    "print(x25[:,[0,1,2]])  # same as print(x25[:,:3])\n",
    "\n"
   ]
  },
  {
   "cell_type": "markdown",
   "metadata": {},
   "source": [
    "#### Slicing in MATRIX"
   ]
  },
  {
   "cell_type": "code",
   "execution_count": 27,
   "metadata": {},
   "outputs": [
    {
     "name": "stdout",
     "output_type": "stream",
     "text": [
      "[[51 35]\n",
      " [32 55]\n",
      " [17  6]\n",
      " [41 49]]\n",
      "[[ 8 96]\n",
      " [99  8]\n",
      " [99 15]\n",
      " [35 92]]\n",
      "[[51 35 70]\n",
      " [32 55 76]\n",
      " [17  6 29]\n",
      " [41 49 42]\n",
      " [21 49 43]]\n"
     ]
    }
   ],
   "source": [
    "print(x25[:4,[0,1]])\n",
    "print(x25[1:,3:])\n",
    "print(x25[:,[0,1,2]])\n"
   ]
  },
  {
   "cell_type": "markdown",
   "metadata": {},
   "source": [
    "### Boolean filter in MATRIX"
   ]
  },
  {
   "cell_type": "code",
   "execution_count": 28,
   "metadata": {},
   "outputs": [
    {
     "data": {
      "text/plain": [
       "array([[51, 35, 70, 54, 87],\n",
       "       [32, 55, 76,  8, 96],\n",
       "       [17,  6, 29, 99,  8],\n",
       "       [41, 49, 42, 99, 15],\n",
       "       [21, 49, 43, 35, 92]])"
      ]
     },
     "execution_count": 28,
     "metadata": {},
     "output_type": "execute_result"
    }
   ],
   "source": [
    "x25"
   ]
  },
  {
   "cell_type": "code",
   "execution_count": 30,
   "metadata": {},
   "outputs": [
    {
     "name": "stdout",
     "output_type": "stream",
     "text": [
      "8\n",
      "17\n",
      "6\n",
      "8\n",
      "15\n"
     ]
    }
   ],
   "source": [
    "# filter without numpy boolean filter (bad idea)\n",
    "for i in x25:\n",
    "    for j in i :\n",
    "        if j<=20:\n",
    "            print(j)"
   ]
  },
  {
   "cell_type": "code",
   "execution_count": 31,
   "metadata": {},
   "outputs": [
    {
     "data": {
      "text/plain": [
       "array([[False, False, False, False, False],\n",
       "       [False, False, False,  True, False],\n",
       "       [ True,  True, False, False,  True],\n",
       "       [False, False, False, False,  True],\n",
       "       [False, False, False, False, False]])"
      ]
     },
     "execution_count": 31,
     "metadata": {},
     "output_type": "execute_result"
    }
   ],
   "source": [
    "x25 <= 20 # boolean filter"
   ]
  },
  {
   "cell_type": "code",
   "execution_count": 32,
   "metadata": {},
   "outputs": [
    {
     "data": {
      "text/plain": [
       "array([ 8, 17,  6,  8, 15])"
      ]
     },
     "execution_count": 32,
     "metadata": {},
     "output_type": "execute_result"
    }
   ],
   "source": [
    "x25 [ x25 <= 20]"
   ]
  },
  {
   "cell_type": "code",
   "execution_count": 35,
   "metadata": {},
   "outputs": [
    {
     "data": {
      "text/plain": [
       "array([51, 70, 54, 87, 55, 76, 96, 99, 99, 92])"
      ]
     },
     "execution_count": 35,
     "metadata": {},
     "output_type": "execute_result"
    }
   ],
   "source": [
    "x25 [ x25 >= 50] # square brackets are filter"
   ]
  },
  {
   "cell_type": "code",
   "execution_count": 38,
   "metadata": {},
   "outputs": [
    {
     "data": {
      "text/plain": [
       "array([[ True,  True, False,  True, False],\n",
       "       [ True,  True, False, False, False],\n",
       "       [False, False,  True, False, False],\n",
       "       [ True,  True,  True, False, False],\n",
       "       [ True,  True,  True,  True, False]])"
      ]
     },
     "execution_count": 38,
     "metadata": {},
     "output_type": "execute_result"
    }
   ],
   "source": [
    "(x25 > 20) & (x25 <70)"
   ]
  },
  {
   "cell_type": "code",
   "execution_count": 37,
   "metadata": {},
   "outputs": [
    {
     "data": {
      "text/plain": [
       "array([51, 35, 54, 32, 55, 29, 41, 49, 42, 21, 49, 43, 35])"
      ]
     },
     "execution_count": 37,
     "metadata": {},
     "output_type": "execute_result"
    }
   ],
   "source": [
    "x25 [(x25 > 20) & (x25 <70)]"
   ]
  },
  {
   "cell_type": "code",
   "execution_count": 39,
   "metadata": {},
   "outputs": [
    {
     "data": {
      "text/plain": [
       "array([51, 35, 70, 54, 87, 32, 55, 76,  8, 96, 17,  6, 29, 99,  8, 41, 49,\n",
       "       42, 99, 15, 21, 49, 43, 35, 92,  1,  2,  3,  4,  5])"
      ]
     },
     "execution_count": 39,
     "metadata": {},
     "output_type": "execute_result"
    }
   ],
   "source": [
    "np.append(x25, [1,2,3,4,5])"
   ]
  },
  {
   "cell_type": "code",
   "execution_count": 42,
   "metadata": {},
   "outputs": [
    {
     "data": {
      "text/plain": [
       "array([[51, 35, 70, 54, 87],\n",
       "       [32, 55, 76,  8, 96],\n",
       "       [17,  6, 29, 99,  8],\n",
       "       [41, 49, 42, 99, 15],\n",
       "       [21, 49, 43, 35, 92],\n",
       "       [ 1,  2,  3,  4,  5]])"
      ]
     },
     "execution_count": 42,
     "metadata": {},
     "output_type": "execute_result"
    }
   ],
   "source": [
    "np.append(x25, np.array([[1,2,3,4,5]]), axis= 0)"
   ]
  },
  {
   "cell_type": "code",
   "execution_count": 44,
   "metadata": {},
   "outputs": [
    {
     "data": {
      "text/plain": [
       "array([[51, 35, 70, 54, 87,  1],\n",
       "       [32, 55, 76,  8, 96,  2],\n",
       "       [17,  6, 29, 99,  8,  3],\n",
       "       [41, 49, 42, 99, 15,  4],\n",
       "       [21, 49, 43, 35, 92,  5]])"
      ]
     },
     "execution_count": 44,
     "metadata": {},
     "output_type": "execute_result"
    }
   ],
   "source": [
    "np.append(x25, np.array([[1],[2],[3],[4],[5]]), axis= 1)"
   ]
  },
  {
   "cell_type": "code",
   "execution_count": 48,
   "metadata": {},
   "outputs": [],
   "source": [
    "# making MATRIX of 2 X 3 and 3 X 2\n",
    "a=np.random.randint(1,100,(2,3))\n",
    "b=np.random.randint(1,100,(3,2))"
   ]
  },
  {
   "cell_type": "code",
   "execution_count": 52,
   "metadata": {},
   "outputs": [
    {
     "name": "stdout",
     "output_type": "stream",
     "text": [
      "(2, 3)\n",
      "(3, 2)\n"
     ]
    }
   ],
   "source": [
    "\n",
    "print(a.shape)\n",
    "print(b.shape)"
   ]
  },
  {
   "cell_type": "code",
   "execution_count": 54,
   "metadata": {},
   "outputs": [
    {
     "data": {
      "text/plain": [
       "array([[44, 48, 18],\n",
       "       [45, 29, 55]])"
      ]
     },
     "execution_count": 54,
     "metadata": {},
     "output_type": "execute_result"
    }
   ],
   "source": [
    "a"
   ]
  },
  {
   "cell_type": "code",
   "execution_count": 55,
   "metadata": {},
   "outputs": [
    {
     "data": {
      "text/plain": [
       "array([[44, 45],\n",
       "       [48, 29],\n",
       "       [18, 55]])"
      ]
     },
     "execution_count": 55,
     "metadata": {},
     "output_type": "execute_result"
    }
   ],
   "source": [
    "a.T   # a.transpose()"
   ]
  },
  {
   "cell_type": "code",
   "execution_count": 63,
   "metadata": {},
   "outputs": [
    {
     "name": "stdout",
     "output_type": "stream",
     "text": [
      "[[44 48 18 37 20 95]\n",
      " [45 29 55 41 71  5]]\n",
      "[[44 45 37 41]\n",
      " [48 29 20 71]\n",
      " [18 55 95  5]]\n"
     ]
    }
   ],
   "source": [
    "print(np.hstack(( a, b.T)))   # stacking of MATRIX \n",
    "print (np.hstack(( a.T, b)) )"
   ]
  },
  {
   "cell_type": "code",
   "execution_count": 3,
   "metadata": {},
   "outputs": [
    {
     "name": "stdout",
     "output_type": "stream",
     "text": [
      "[[6 5 3]\n",
      " [9 3 3]\n",
      " [6 6 3]]\n",
      "\n",
      "[[3 6 3]\n",
      " [9 3 2]\n",
      " [8 6 8]]\n",
      "add\n",
      "[[ 9 11  6]\n",
      " [18  6  5]\n",
      " [14 12 11]]\n",
      "subtsract\n",
      "[[ 3 -1  0]\n",
      " [ 0  0  1]\n",
      " [-2  0 -5]]\n",
      "divide\n",
      "[[2.         0.83333333 1.        ]\n",
      " [1.         1.         1.5       ]\n",
      " [0.75       1.         0.375     ]]\n",
      "multipy\n",
      "[[18 30  9]\n",
      " [81  9  6]\n",
      " [48 36 24]]\n",
      "mod\n",
      "[[0 5 0]\n",
      " [0 0 1]\n",
      " [6 0 3]]\n"
     ]
    }
   ],
   "source": [
    "x = np.random.randint(1,10,(3,3))\n",
    "y = np.random.randint(1,10,(3,3))\n",
    "print(x)\n",
    "print()\n",
    "print(y)\n",
    "print(\"add\")\n",
    "print(x + y)\n",
    "print(\"subtsract\")\n",
    "print(x - y)\n",
    "print(\"divide\")\n",
    "print(x / y)\n",
    "print(\"multipy\")\n",
    "print(x * y)\n",
    "print(\"mod\")\n",
    "print(x %  y)"
   ]
  },
  {
   "cell_type": "code",
   "execution_count": 4,
   "metadata": {},
   "outputs": [
    {
     "name": "stdout",
     "output_type": "stream",
     "text": [
      "[[87 69 52]\n",
      " [78 81 57]\n",
      " [96 72 54]]\n",
      "\n"
     ]
    }
   ],
   "source": [
    "print(x.dot(y))  \n",
    "print()"
   ]
  },
  {
   "cell_type": "code",
   "execution_count": 5,
   "metadata": {},
   "outputs": [
    {
     "data": {
      "text/plain": [
       "44"
      ]
     },
     "execution_count": 5,
     "metadata": {},
     "output_type": "execute_result"
    }
   ],
   "source": [
    "x.sum()  # sum of all values "
   ]
  },
  {
   "cell_type": "code",
   "execution_count": 6,
   "metadata": {},
   "outputs": [
    {
     "data": {
      "text/plain": [
       "array([21, 14,  9])"
      ]
     },
     "execution_count": 6,
     "metadata": {},
     "output_type": "execute_result"
    }
   ],
   "source": [
    "x.sum(axis=0)  # row wise sum"
   ]
  },
  {
   "cell_type": "code",
   "execution_count": 7,
   "metadata": {},
   "outputs": [
    {
     "data": {
      "text/plain": [
       "array([14, 15, 15])"
      ]
     },
     "execution_count": 7,
     "metadata": {},
     "output_type": "execute_result"
    }
   ],
   "source": [
    "x.sum(axis=1)  # column wise sum"
   ]
  },
  {
   "cell_type": "code",
   "execution_count": 8,
   "metadata": {},
   "outputs": [
    {
     "name": "stdout",
     "output_type": "stream",
     "text": [
      "4.888888888888889\n",
      "[7.         4.66666667 3.        ]\n",
      "[4.66666667 5.         5.        ]\n"
     ]
    }
   ],
   "source": [
    "print(x.mean())  # all\n",
    "print(x.mean(axis = 0)) # row wise\n",
    "print(x.mean(axis = 1)) # column wise"
   ]
  },
  {
   "cell_type": "code",
   "execution_count": 9,
   "metadata": {},
   "outputs": [
    {
     "name": "stdout",
     "output_type": "stream",
     "text": [
      "9\n"
     ]
    }
   ],
   "source": [
    "print(x.max()) # max value \n",
    "print(x.min())  # min value \n",
    "print(x.argmax())  # index of max value\n",
    "print(x.argmin()) # index of min value \n",
    "print(x.flatten()[4]) # accessing the index value given by argmax\n"
   ]
  },
  {
   "cell_type": "code",
   "execution_count": 10,
   "metadata": {},
   "outputs": [
    {
     "data": {
      "text/plain": [
       "5.0"
      ]
     },
     "execution_count": 10,
     "metadata": {},
     "output_type": "execute_result"
    }
   ],
   "source": [
    "np.median(x )\n",
    "# some function are called using np, if not available through variable "
   ]
  },
  {
   "cell_type": "code",
   "execution_count": null,
   "metadata": {},
   "outputs": [],
   "source": []
  }
 ],
 "metadata": {
  "interpreter": {
   "hash": "a8dfbd2fc2a8af6c55c4518559071748e8c4931b9b78fdcc5ea1ea4fb4fc5a59"
  },
  "kernelspec": {
   "display_name": "Python 3.9.12 ('base')",
   "language": "python",
   "name": "python3"
  },
  "language_info": {
   "codemirror_mode": {
    "name": "ipython",
    "version": 3
   },
   "file_extension": ".py",
   "mimetype": "text/x-python",
   "name": "python",
   "nbconvert_exporter": "python",
   "pygments_lexer": "ipython3",
   "version": "3.9.12"
  },
  "orig_nbformat": 4
 },
 "nbformat": 4,
 "nbformat_minor": 2
}
