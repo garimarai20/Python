{
 "cells": [
  {
   "cell_type": "code",
   "execution_count": 1,
   "metadata": {},
   "outputs": [],
   "source": [
    "import requests\n",
    "from bs4 import BeautifulSoup"
   ]
  },
  {
   "cell_type": "code",
   "execution_count": 2,
   "metadata": {},
   "outputs": [],
   "source": [
    "def get_soup(url):\n",
    "    page  = requests.get(url)\n",
    "    return BeautifulSoup(page.text)"
   ]
  },
  {
   "cell_type": "code",
   "execution_count": 3,
   "metadata": {},
   "outputs": [],
   "source": [
    "soup = get_soup('https://www.ndtv.com/latest')"
   ]
  },
  {
   "cell_type": "code",
   "execution_count": 4,
   "metadata": {},
   "outputs": [],
   "source": [
    "target = soup.find('div',attrs = {'class':'lisingNews'})"
   ]
  },
  {
   "cell_type": "code",
   "execution_count": 6,
   "metadata": {},
   "outputs": [
    {
     "name": "stdout",
     "output_type": "stream",
     "text": [
      "17\n"
     ]
    }
   ],
   "source": [
    "newslist = target.find_all('div', attrs ={'class':'news_Itm'})\n",
    "print(len(newslist))"
   ]
  },
  {
   "cell_type": "code",
   "execution_count": 13,
   "metadata": {},
   "outputs": [
    {
     "name": "stdout",
     "output_type": "stream",
     "text": [
      "--> HEADLINES --------------------------------------------------------------------------------\n",
      "Queen Elizabeth Updates: Charles To Be Proclaimed King Today\n",
      "Edited by NDTV News Desk  | Saturday September 10, 2022\n",
      "Britain's Charles III will officially be proclaimed king in a ceremony on Saturday, a day after he vowed in his first speech to mourning subjects that he would emulate his \"darling mama\", Queen Elizabeth II.\n",
      "--> HEADLINES --------------------------------------------------------------------------------\n",
      "Australia vs New Zealand: Marcus Stoinis, David Warner Out Of 3rd ODI\n",
      "Agence France-Presse   | Saturday September 10, 2022\n",
      "Injured all-rounder Marcus Stoinis was Saturday ruled out of Australia's final one-day international against New Zealand, while David Warner was released from the squad to rest.\n",
      "--> HEADLINES --------------------------------------------------------------------------------\n",
      "\"Will Be Five Kilos Less\": On Virat Kohli's Ton, Ex-India Coach Ravi Shastri's Out Of The Box Take\n",
      "NDTV Sports Desk   | Saturday September 10, 2022\n",
      "After Virat Kohli's ton on Thursday, former India coach Ravi Shastri was asked about Kohli reaching the triple-figure mark after 1020 days, and he gave his insight on it.\n",
      "--> HEADLINES --------------------------------------------------------------------------------\n",
      "\"Maharani Elizabeth ko...\": British Envoy Mourns Queen's Death In Hindi\n",
      "Edited by Supriti David  | Saturday September 10, 2022, New Delhi\n",
      "British High Commissioner to India Alex Ellis mourned the death of Queen Elizabeth on Friday and as he spoke of her \"life dedicated to service\", he decided to begin doing so in Hindi.\n",
      "--> HEADLINES --------------------------------------------------------------------------------\n",
      "How Shilpa Shetty Wished Birthday To Husband Raj Kundra\n",
      "Written by Jyothi Jha  | Saturday September 10, 2022, New Delhi\n",
      "\"I'm thankful that you're my bestest friend, the father of my children, my love, and my strength,\" wrote Shilpa Shetty\n",
      "--> HEADLINES --------------------------------------------------------------------------------\n",
      "Assam Chief Minister's Rahul Gandhi Cartoon Gets A Counter From 2010\n",
      "Reported by Sunil Prabhu, Edited by Shatabdi Chowdhury  | Saturday September 10, 2022, New Delhi\n",
      "The Congress has dug up a 12-year-old tweet of Assam Chief Minister Himanta Biswa Sarma praising Rahul Gandhi, hours after he posted a parody video mocking him.\n",
      "--> HEADLINES --------------------------------------------------------------------------------\n",
      "JEECUP 2022 Counselling: Round 1 Seat Allotment Result Today; Details Here\n",
      "Edited by Arnab Mitra  | Saturday September 10, 2022\n",
      "JEECUP 2022 Counselling: The candidates can select the freeze/float option and appear for document verification from September 11 to 13. Download round 1 seat allotment list at jeecup.nic.in\n",
      "--> HEADLINES --------------------------------------------------------------------------------\n",
      "Queen Elizabeth To Remain On Canadian Currency \"For Years To Come\"\n",
      "By Stephen Wicary, Bloomberg   | Saturday September 10, 2022, Ottawa\n",
      "Canada, a former British colony, has a new head of state. But the face of Queen Elizabeth II will continue to appear on its currency.\n",
      "--> HEADLINES --------------------------------------------------------------------------------\n",
      "Deepening Tokyo Olympics Bribery Scandal Casts Shadow Over 2030 Bid\n",
      "Agence France-Presse   | Saturday September 10, 2022\n",
      "A bribery scandal engulfing last summer's pandemic-delayed Tokyo Games has thrown a dark cloud over Sapporo's 2030 bid and raised fresh questions in Japan about hosting the Olympics again.\n",
      "--> HEADLINES --------------------------------------------------------------------------------\n",
      "India Logs 5,554 New COVID-19 Cases Today, Active Cases Decline To 48,850\n",
      "Press Trust of India   | Saturday September 10, 2022, New Delhi\n",
      "India logged 5,554 new coronavirus infections which raised the tally to 4,44,90,283 while the active cases further declined to 48,850, the Union Health Ministry said on Saturday.\n",
      "--> HEADLINES --------------------------------------------------------------------------------\n",
      "Charles To Be Proclaimed King Today After Vowing \"Lifelong Service\"\n",
      "Agence France-Presse   | Saturday September 10, 2022\n",
      "Britain's Charles III will officially be proclaimed king in a ceremony on Saturday, a day after he vowed in his first speech to mourning subjects that he would emulate his \"darling mama\", Queen Elizabeth II.\n",
      "--> HEADLINES --------------------------------------------------------------------------------\n",
      "\"T20 Cricket Needs To Explore...\": Ex-India Batter On Toss Playing Crucial Role in Asia Cup\n",
      "NDTV Sports Desk   | Saturday September 10, 2022\n",
      "Sanjay Manjrekar has now highlighted how toss played a big role in the Asia Cup. He also highlighted that India lost tosses in their three Super 4 games while Afghanistan lost two.\n",
      "--> HEADLINES --------------------------------------------------------------------------------\n",
      "World Suicide Prevention Day 2022: Theme, Significance, How To Identify If Someone Is Suicidal & What Can You Do\n",
      "Manya Singh   | Saturday September 10, 2022\n",
      "World Suicide Prevention Day 2022: WSPD is celebrated to help raise awareness towards suicide cases and help lower the rates of suicide.\n",
      "--> HEADLINES --------------------------------------------------------------------------------\n",
      "CUET UG 2022 Answer Key: Last Date To Raise Objections Today At Cuet.samarth.ac.in\n",
      "Edited by Arnab Mitra  | Saturday September 10, 2022\n",
      "CUET UG 2022 Answer Key: The CUET UG 2022 answer key objection window for all the six phases is available online till 11:50 PM today. Download answer key at cuet.samarth.ac.in\n",
      "--> HEADLINES --------------------------------------------------------------------------------\n",
      "\"King Is Back, They're Saying. But...\": Chennai Super Kings' Tweet On Virat Kohli's Ton Goes Viral\n",
      "NDTV Sports Desk   | Saturday September 10, 2022\n",
      "Chennai Super Kings also paid a special tribute to Kohli after his 122* off 61 balls against Afghanistan with a twitter thread.\n"
     ]
    }
   ],
   "source": [
    "for news in newslist :\n",
    "    title = news.find('h2', attrs = {'class':'newsHdng'})\n",
    "    posted=news.find('span', attrs = {'class':'posted-by'})\n",
    "    cont=news.find('p', attrs = {'class':'newsCont'})\n",
    "    if title and posted and cont:\n",
    "        print('--> HEADLINES','--'*40)\n",
    "        print(title.text)\n",
    "        print(posted.text.strip())\n",
    "        print(cont.text.strip())"
   ]
  },
  {
   "cell_type": "code",
   "execution_count": 14,
   "metadata": {},
   "outputs": [],
   "source": [
    "data=[]\n",
    "for news in newslist :\n",
    "    title = news.find('h2', attrs = {'class':'newsHdng'})\n",
    "    posted=news.find('span', attrs = {'class':'posted-by'})\n",
    "    cont=news.find('p', attrs = {'class':'newsCont'})\n",
    "    if title and posted and cont:\n",
    "        data.append({\n",
    "            'title':(title.text.strip()),\n",
    "            'details':(posted.text.strip()),\n",
    "            'content ': (cont.text.strip())\n",
    "        })"
   ]
  },
  {
   "cell_type": "code",
   "execution_count": 11,
   "metadata": {},
   "outputs": [
    {
     "name": "stdout",
     "output_type": "stream",
     "text": [
      "Britain's Charles III will officially be proclaimed king in a ceremony on Saturday, a day after he vowed in his first speech to mourning subjects that he would emulate his \"darling mama\", Queen Elizabeth II.\n",
      "Injured all-rounder Marcus Stoinis was Saturday ruled out of Australia's final one-day international against New Zealand, while David Warner was released from the squad to rest.\n",
      "After Virat Kohli's ton on Thursday, former India coach Ravi Shastri was asked about Kohli reaching the triple-figure mark after 1020 days, and he gave his insight on it.\n",
      "British High Commissioner to India Alex Ellis mourned the death of Queen Elizabeth on Friday and as he spoke of her \"life dedicated to service\", he decided to begin doing so in Hindi.\n",
      "\"I'm thankful that you're my bestest friend, the father of my children, my love, and my strength,\" wrote Shilpa Shetty\n",
      "The Congress has dug up a 12-year-old tweet of Assam Chief Minister Himanta Biswa Sarma praising Rahul Gandhi, hours after he posted a parody video mocking him.\n",
      "JEECUP 2022 Counselling: The candidates can select the freeze/float option and appear for document verification from September 11 to 13. Download round 1 seat allotment list at jeecup.nic.in\n",
      "Canada, a former British colony, has a new head of state. But the face of Queen Elizabeth II will continue to appear on its currency.\n",
      "A bribery scandal engulfing last summer's pandemic-delayed Tokyo Games has thrown a dark cloud over Sapporo's 2030 bid and raised fresh questions in Japan about hosting the Olympics again.\n",
      "India logged 5,554 new coronavirus infections which raised the tally to 4,44,90,283 while the active cases further declined to 48,850, the Union Health Ministry said on Saturday.\n",
      "Britain's Charles III will officially be proclaimed king in a ceremony on Saturday, a day after he vowed in his first speech to mourning subjects that he would emulate his \"darling mama\", Queen Elizabeth II.\n",
      "Sanjay Manjrekar has now highlighted how toss played a big role in the Asia Cup. He also highlighted that India lost tosses in their three Super 4 games while Afghanistan lost two.\n",
      "World Suicide Prevention Day 2022: WSPD is celebrated to help raise awareness towards suicide cases and help lower the rates of suicide.\n",
      "CUET UG 2022 Answer Key: The CUET UG 2022 answer key objection window for all the six phases is available online till 11:50 PM today. Download answer key at cuet.samarth.ac.in\n",
      "Chennai Super Kings also paid a special tribute to Kohli after his 122* off 61 balls against Afghanistan with a twitter thread.\n"
     ]
    }
   ],
   "source": [
    "for content in newslist:\n",
    "    cont=content.find('p', attrs = {'class':'newsCont'})\n",
    "    if cont:\n",
    "        print(cont.text)"
   ]
  },
  {
   "cell_type": "code",
   "execution_count": 16,
   "metadata": {},
   "outputs": [],
   "source": [
    "import pandas as pd # ------# pip install pandas"
   ]
  },
  {
   "cell_type": "code",
   "execution_count": 17,
   "metadata": {},
   "outputs": [],
   "source": [
    "pd.DataFrame(data).to_csv('headlines.csv')"
   ]
  },
  {
   "cell_type": "code",
   "execution_count": null,
   "metadata": {},
   "outputs": [],
   "source": []
  }
 ],
 "metadata": {
  "interpreter": {
   "hash": "a8dfbd2fc2a8af6c55c4518559071748e8c4931b9b78fdcc5ea1ea4fb4fc5a59"
  },
  "kernelspec": {
   "display_name": "Python 3.9.12 ('base')",
   "language": "python",
   "name": "python3"
  },
  "language_info": {
   "codemirror_mode": {
    "name": "ipython",
    "version": 3
   },
   "file_extension": ".py",
   "mimetype": "text/x-python",
   "name": "python",
   "nbconvert_exporter": "python",
   "pygments_lexer": "ipython3",
   "version": "3.9.12"
  },
  "orig_nbformat": 4
 },
 "nbformat": 4,
 "nbformat_minor": 2
}
