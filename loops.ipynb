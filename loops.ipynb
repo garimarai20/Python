{
 "cells": [
  {
   "cell_type": "code",
   "execution_count": 1,
   "metadata": {},
   "outputs": [
    {
     "name": "stdout",
     "output_type": "stream",
     "text": [
      "P\n",
      "Y\n",
      "T\n",
      "H\n",
      "O\n",
      "N\n"
     ]
    }
   ],
   "source": [
    "x = \"PYTHON\"\n",
    "for i in x :\n",
    "    print(i)"
   ]
  },
  {
   "cell_type": "code",
   "execution_count": 2,
   "metadata": {},
   "outputs": [
    {
     "name": "stdout",
     "output_type": "stream",
     "text": [
      "i have apple\n",
      "i have banana\n",
      "i have mango\n",
      "i have lemon\n"
     ]
    }
   ],
   "source": [
    "fruits =['apple','banana','mango','lemon']\n",
    "for item in fruits :\n",
    "    print(f'i have {item}')"
   ]
  },
  {
   "cell_type": "code",
   "execution_count": 3,
   "metadata": {},
   "outputs": [
    {
     "name": "stdout",
     "output_type": "stream",
     "text": [
      "1\n",
      "2\n",
      "3\n",
      "4\n",
      "5\n",
      "6\n",
      "7\n",
      "8\n",
      "9\n",
      "10\n"
     ]
    }
   ],
   "source": [
    "x=[1,2,3,4,5,6,7,8,9,10]\n",
    "for y in x :\n",
    "    print(y)"
   ]
  },
  {
   "cell_type": "code",
   "execution_count": 8,
   "metadata": {},
   "outputs": [
    {
     "name": "stdout",
     "output_type": "stream",
     "text": [
      "you got point 0\n",
      "you got point 1\n",
      "you got point 2\n",
      "you got point 3\n",
      "you got point 4\n",
      "you got point 5\n"
     ]
    }
   ],
   "source": [
    "for z in range(6):\n",
    "    print('you got point',z)"
   ]
  },
  {
   "cell_type": "code",
   "execution_count": 9,
   "metadata": {},
   "outputs": [
    {
     "name": "stdout",
     "output_type": "stream",
     "text": [
      "sheep 2\n",
      "sheep 3\n",
      "sheep 4\n",
      "sheep 5\n",
      "sheep 6\n",
      "sheep 7\n",
      "sheep 8\n",
      "sheep 9\n",
      "sheep 10\n"
     ]
    }
   ],
   "source": [
    "for num in range(2,11):\n",
    "    print('sheep',num)"
   ]
  },
  {
   "cell_type": "code",
   "execution_count": null,
   "metadata": {},
   "outputs": [],
   "source": []
  }
 ],
 "metadata": {
  "interpreter": {
   "hash": "a8dfbd2fc2a8af6c55c4518559071748e8c4931b9b78fdcc5ea1ea4fb4fc5a59"
  },
  "kernelspec": {
   "display_name": "Python 3.9.12 ('base')",
   "language": "python",
   "name": "python3"
  },
  "language_info": {
   "codemirror_mode": {
    "name": "ipython",
    "version": 3
   },
   "file_extension": ".py",
   "mimetype": "text/x-python",
   "name": "python",
   "nbconvert_exporter": "python",
   "pygments_lexer": "ipython3",
   "version": "3.9.12"
  },
  "orig_nbformat": 4
 },
 "nbformat": 4,
 "nbformat_minor": 2
}
